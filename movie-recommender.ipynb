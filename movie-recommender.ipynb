{
 "cells": [
  {
   "cell_type": "code",
   "execution_count": null,
   "id": "7a2b8a31-688b-497d-b482-e1395a1adbcb",
   "metadata": {},
   "outputs": [],
   "source": [
    "# inporting the required liberaries\n",
    "import numpy as np\n",
    "# print(numpy.__version__)\n",
    "import pandas as pd\n",
    "# print(pd.__version__)\n",
    "import ast"
   ]
  },
  {
   "cell_type": "code",
   "execution_count": null,
   "id": "e54df057-e9a7-4c6b-a415-e7d0e4f4f40a",
   "metadata": {},
   "outputs": [],
   "source": [
    "# reading the csv files and storing their data in variables\n",
    "movies = pd.read_csv('tmdb_5000_movies.csv')\n",
    "credits = pd.read_csv('tmdb_5000_credits.csv')"
   ]
  },
  {
   "cell_type": "code",
   "execution_count": 5,
   "id": "42371c31-41a8-4c97-a00e-78397deffee7",
   "metadata": {},
   "outputs": [],
   "source": [
    "# movies.head(1)"
   ]
  },
  {
   "cell_type": "code",
   "execution_count": 6,
   "id": "aa4227a2-6899-43a7-8229-bfd01ff2dd30",
   "metadata": {},
   "outputs": [],
   "source": [
    "# credits.head(1)"
   ]
  },
  {
   "cell_type": "code",
   "execution_count": null,
   "id": "96d26d35-78e5-4d52-999b-bed57e0e97cf",
   "metadata": {},
   "outputs": [],
   "source": [
    "# merging data of both the variables\n",
    "movies = movies.merge(credits, on='title')\n",
    "# movies.head(1)"
   ]
  },
  {
   "cell_type": "code",
   "execution_count": null,
   "id": "cfe23f2c-3c88-454d-aaa3-94ef7b07ffe8",
   "metadata": {},
   "outputs": [],
   "source": [
    "#  extracting the required data\n",
    "# required columns = genres, id, keywords, title, overwiew, cast, crew, \n",
    "movies = movies[['movie_id', 'title', 'overview', 'genres', 'keywords', 'cast', 'crew']]\n",
    "# movies.info()\n",
    "# movies.head()"
   ]
  },
  {
   "cell_type": "code",
   "execution_count": 9,
   "id": "2859f6a1-7074-4c50-97e5-5d3bc88132bc",
   "metadata": {},
   "outputs": [],
   "source": [
    "# movies.isnull().sum()"
   ]
  },
  {
   "cell_type": "code",
   "execution_count": null,
   "id": "d1c0d4bb-2888-49e5-95cd-1530fb3856d4",
   "metadata": {},
   "outputs": [],
   "source": [
    "# removing the data entries with NULL values\n",
    "movies.dropna(inplace=True)"
   ]
  },
  {
   "cell_type": "code",
   "execution_count": 11,
   "id": "923b0c27-29d9-45cf-a08e-dacc93acce74",
   "metadata": {},
   "outputs": [],
   "source": [
    "# movies.duplicated().sum()"
   ]
  },
  {
   "cell_type": "code",
   "execution_count": null,
   "id": "4f7b048b-fac4-4f0c-9e31-738583efc6a9",
   "metadata": {},
   "outputs": [],
   "source": [
    "# converting in to a list\n",
    "def convert(obj):\n",
    "    l = []\n",
    "    for i in ast.literal_eval(obj):\n",
    "        l.append(i['name'])\n",
    "    return l"
   ]
  },
  {
   "cell_type": "code",
   "execution_count": 13,
   "id": "cb810c74-fd68-4a45-ac1b-f29737a8e537",
   "metadata": {},
   "outputs": [],
   "source": [
    "movies['genres'] = movies['genres'].apply(convert)"
   ]
  },
  {
   "cell_type": "code",
   "execution_count": 14,
   "id": "b68b308d-7c94-4493-8399-052f96bd6eca",
   "metadata": {},
   "outputs": [],
   "source": [
    "# movies['genres'].head()"
   ]
  },
  {
   "cell_type": "code",
   "execution_count": 15,
   "id": "300f9e4d-62e9-4e59-a110-6bfac2c0d7f1",
   "metadata": {},
   "outputs": [],
   "source": [
    "# movies.head()"
   ]
  },
  {
   "cell_type": "code",
   "execution_count": 16,
   "id": "3fcdd663-7dfb-41bc-a806-a5ad74927eac",
   "metadata": {},
   "outputs": [],
   "source": [
    "movies['keywords'] = movies['keywords'].apply(convert)\n",
    "# movies.head()"
   ]
  },
  {
   "cell_type": "code",
   "execution_count": 17,
   "id": "c8b842a1-8e3b-4f4d-90d7-b3d60bb36129",
   "metadata": {},
   "outputs": [],
   "source": [
    "def convert2(obj):\n",
    "    l = []\n",
    "    counter = 0\n",
    "    for i in ast.literal_eval(obj):\n",
    "        if counter == 3:\n",
    "            break\n",
    "        l.append(i['name'])\n",
    "        counter += 1\n",
    "    return l\n",
    "    \n",
    "movies['cast'] = movies['cast'].apply(convert2)"
   ]
  },
  {
   "cell_type": "code",
   "execution_count": 18,
   "id": "770084a8-8071-43d2-badb-82517b3e8ca9",
   "metadata": {},
   "outputs": [],
   "source": [
    "def findDirector(obj):\n",
    "    l = []\n",
    "    for i in ast.literal_eval(obj):\n",
    "        if i['job'] == 'Director':\n",
    "            l.append(i['name'])\n",
    "            break\n",
    "    return l"
   ]
  },
  {
   "cell_type": "code",
   "execution_count": 19,
   "id": "129ba274-093c-4693-a0d4-a3c1dd5783ce",
   "metadata": {},
   "outputs": [],
   "source": [
    "movies['crew'] = movies['crew'].apply(findDirector)\n",
    "# movies.head()"
   ]
  },
  {
   "cell_type": "code",
   "execution_count": null,
   "id": "21924c7c-a897-4f33-8370-e623963c0ece",
   "metadata": {},
   "outputs": [],
   "source": [
    "# Rmoving the white space between the words\n",
    "movies['overview'] = movies['overview'].apply(lambda x:x.split())"
   ]
  },
  {
   "cell_type": "code",
   "execution_count": 22,
   "id": "8e421b0c-61b5-4661-8da9-ee8c42f0bbcf",
   "metadata": {},
   "outputs": [],
   "source": [
    "movies['genres'] = movies['genres'].apply(lambda x:[i.replace(\" \", \"\") for i in x])\n",
    "movies['keywords'] = movies['keywords'].apply(lambda x:[i.replace(\" \", \"\") for i in x])\n",
    "movies['cast'] = movies['cast'].apply(lambda x:[i.replace(\" \", \"\") for i in x])\n",
    "movies['crew'] = movies['crew'].apply(lambda x:[i.replace(\" \", \"\") for i in x])"
   ]
  },
  {
   "cell_type": "code",
   "execution_count": 23,
   "id": "bdfdc9fc-3bc8-4452-a025-ccdb627a5a39",
   "metadata": {},
   "outputs": [],
   "source": [
    "# movies.head()"
   ]
  },
  {
   "cell_type": "code",
   "execution_count": null,
   "id": "ca6e5293-0405-41bd-a0e5-694ae63befc6",
   "metadata": {},
   "outputs": [],
   "source": [
    "# merging all the columns in a single column called tag\n",
    "movies['tags'] = movies['overview'] + movies['genres'] + movies['keywords'] + movies['cast'] + movies['crew']"
   ]
  },
  {
   "cell_type": "code",
   "execution_count": 25,
   "id": "7c9c39c9-dfde-42d9-a232-d83628283378",
   "metadata": {},
   "outputs": [],
   "source": [
    "# movies.head()"
   ]
  },
  {
   "cell_type": "code",
   "execution_count": null,
   "id": "19e9a302-b718-41f7-b072-470ebf1785f2",
   "metadata": {},
   "outputs": [],
   "source": [
    "# making the new dataframe with the required columns only\n",
    "new_df = movies[['movie_id', 'title', 'tags']]"
   ]
  },
  {
   "cell_type": "code",
   "execution_count": null,
   "id": "12f584d5-6d7f-4c95-8325-2e10977a714f",
   "metadata": {},
   "outputs": [
    {
     "name": "stderr",
     "output_type": "stream",
     "text": [
      "C:\\Users\\Abhraneel Singh\\AppData\\Local\\Temp\\ipykernel_20440\\3530946481.py:1: SettingWithCopyWarning: \n",
      "A value is trying to be set on a copy of a slice from a DataFrame.\n",
      "Try using .loc[row_indexer,col_indexer] = value instead\n",
      "\n",
      "See the caveats in the documentation: https://pandas.pydata.org/pandas-docs/stable/user_guide/indexing.html#returning-a-view-versus-a-copy\n",
      "  new_df['tags'] = new_df['tags'].apply(lambda x : \" \".join(x))\n"
     ]
    }
   ],
   "source": [
    "# converting into a stirng\n",
    "new_df['tags'] = new_df['tags'].apply(lambda x : \" \".join(x))"
   ]
  },
  {
   "cell_type": "code",
   "execution_count": null,
   "id": "ed5915fc-a444-40a0-bf21-7654159a5ea8",
   "metadata": {},
   "outputs": [
    {
     "name": "stderr",
     "output_type": "stream",
     "text": [
      "C:\\Users\\Abhraneel Singh\\AppData\\Local\\Temp\\ipykernel_20440\\3679624391.py:1: SettingWithCopyWarning: \n",
      "A value is trying to be set on a copy of a slice from a DataFrame.\n",
      "Try using .loc[row_indexer,col_indexer] = value instead\n",
      "\n",
      "See the caveats in the documentation: https://pandas.pydata.org/pandas-docs/stable/user_guide/indexing.html#returning-a-view-versus-a-copy\n",
      "  new_df['tags'] = new_df['tags'].apply(lambda x : x.lower())\n"
     ]
    }
   ],
   "source": [
    "# coverting into lower case\n",
    "new_df['tags'] = new_df['tags'].apply(lambda x : x.lower())"
   ]
  },
  {
   "cell_type": "code",
   "execution_count": 29,
   "id": "4852efc9-f46e-4ab1-b975-dd2ab07930eb",
   "metadata": {},
   "outputs": [],
   "source": [
    "# new_df['tags'][0]"
   ]
  },
  {
   "cell_type": "code",
   "execution_count": null,
   "id": "e598b852-a028-4d97-8491-9b72d42e5e3f",
   "metadata": {},
   "outputs": [],
   "source": [
    "# importing nltk library for stemming which is the process of converting words in their root words.\n",
    "from nltk.stem.porter import PorterStemmer\n",
    "ps = PorterStemmer()"
   ]
  },
  {
   "cell_type": "code",
   "execution_count": 31,
   "id": "ebbb9868-7287-47d9-b604-250c875314f1",
   "metadata": {},
   "outputs": [],
   "source": [
    "def stem(text):\n",
    "    y = []\n",
    "\n",
    "    for i in text.split():\n",
    "        y.append(ps.stem(i))\n",
    "\n",
    "    return \" \".join(y)\n",
    "    "
   ]
  },
  {
   "cell_type": "code",
   "execution_count": 32,
   "id": "393c8771-fa24-4bc1-8465-1c67cdeb67da",
   "metadata": {},
   "outputs": [
    {
     "name": "stderr",
     "output_type": "stream",
     "text": [
      "C:\\Users\\Abhraneel Singh\\AppData\\Local\\Temp\\ipykernel_20440\\3213734980.py:1: SettingWithCopyWarning: \n",
      "A value is trying to be set on a copy of a slice from a DataFrame.\n",
      "Try using .loc[row_indexer,col_indexer] = value instead\n",
      "\n",
      "See the caveats in the documentation: https://pandas.pydata.org/pandas-docs/stable/user_guide/indexing.html#returning-a-view-versus-a-copy\n",
      "  new_df['tags'] = new_df['tags'].apply(stem)\n"
     ]
    }
   ],
   "source": [
    "new_df['tags'] = new_df['tags'].apply(stem)"
   ]
  },
  {
   "cell_type": "code",
   "execution_count": null,
   "id": "460237c3-105e-4b58-9679-09fd1effc633",
   "metadata": {},
   "outputs": [],
   "source": [
    "# importing sklearn library for removing the stopwords and for the process of vectorization by Bag Of Words technique.\n",
    "from sklearn.feature_extraction.text import CountVectorizer\n",
    "cv = CountVectorizer(max_features = 5000, stop_words = 'english')"
   ]
  },
  {
   "cell_type": "code",
   "execution_count": null,
   "id": "cd68ffa9-21ef-4cd3-b54d-f066c1a8c10c",
   "metadata": {},
   "outputs": [],
   "source": [
    "\n",
    "vectors = cv.fit_transform(new_df['tags']).toarray()"
   ]
  },
  {
   "cell_type": "code",
   "execution_count": 35,
   "id": "c97c65a5-e521-425e-9ff2-059badd84642",
   "metadata": {},
   "outputs": [],
   "source": [
    "# cv.get_feature_names_out()"
   ]
  },
  {
   "cell_type": "code",
   "execution_count": null,
   "id": "819fbf29-7ff2-4d1c-ad50-cfdac47a4abd",
   "metadata": {},
   "outputs": [],
   "source": [
    "# for calculating the angular diatance of all the vectors(movies) from each other\n",
    "from sklearn.metrics.pairwise import cosine_similarity"
   ]
  },
  {
   "cell_type": "code",
   "execution_count": 37,
   "id": "e5e79886-bde4-4f91-8347-7576a2b7b295",
   "metadata": {},
   "outputs": [],
   "source": [
    "similarity = cosine_similarity(vectors)"
   ]
  },
  {
   "cell_type": "code",
   "execution_count": null,
   "id": "6b1758e9-4990-4e22-a471-8a6ecfb77a8c",
   "metadata": {},
   "outputs": [],
   "source": [
    "# function calculates the nearest 5 movies for a given movies using vectors.\n",
    "def recommend(movie):\n",
    "    movie_index = new_df[new_df['title'] == movie].index[0]\n",
    "    distances = similarity[movie_index]\n",
    "    movie_list = sorted(list(enumerate(distances)),reverse = True, key = lambda x:x[1])[1:6]\n",
    "\n",
    "    for i in movie_list:\n",
    "        print(new_df.iloc[i[0]].title)"
   ]
  },
  {
   "cell_type": "code",
   "execution_count": 39,
   "id": "da362105-b4c4-420e-9044-42f867745afe",
   "metadata": {},
   "outputs": [
    {
     "name": "stdout",
     "output_type": "stream",
     "text": [
      "Batman\n",
      "Batman & Robin\n",
      "Batman Begins\n",
      "Batman Returns\n",
      "The R.M.\n"
     ]
    }
   ],
   "source": [
    "recommend('Batman')"
   ]
  },
  {
   "cell_type": "code",
   "execution_count": null,
   "id": "c0c072d8-624b-4ff2-b183-42f1ec60ad4d",
   "metadata": {},
   "outputs": [],
   "source": [
    "# importing library for exporting the dataframe and the vector distance. \n",
    "import pickle"
   ]
  },
  {
   "cell_type": "code",
   "execution_count": 41,
   "id": "2dc664bf-224d-416b-a326-f78c3abcdeed",
   "metadata": {},
   "outputs": [],
   "source": [
    "pickle.dump(new_df, open('movies.pkl', 'wb'))"
   ]
  },
  {
   "cell_type": "code",
   "execution_count": 42,
   "id": "d5660409-1d03-46d8-95ad-a56c111dd787",
   "metadata": {},
   "outputs": [],
   "source": [
    "pickle.dump(similarity, open('similarity.pkl', 'wb'))"
   ]
  },
  {
   "cell_type": "code",
   "execution_count": null,
   "id": "9b91352c-c45b-414c-a5fa-6fe99ddc9f3d",
   "metadata": {},
   "outputs": [],
   "source": []
  }
 ],
 "metadata": {
  "kernelspec": {
   "display_name": "Python 3 (ipykernel)",
   "language": "python",
   "name": "python3"
  },
  "language_info": {
   "codemirror_mode": {
    "name": "ipython",
    "version": 3
   },
   "file_extension": ".py",
   "mimetype": "text/x-python",
   "name": "python",
   "nbconvert_exporter": "python",
   "pygments_lexer": "ipython3",
   "version": "3.13.0"
  }
 },
 "nbformat": 4,
 "nbformat_minor": 5
}
